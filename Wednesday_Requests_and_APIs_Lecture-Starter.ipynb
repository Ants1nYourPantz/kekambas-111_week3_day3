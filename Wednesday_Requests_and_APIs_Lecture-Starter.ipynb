{
 "cells": [
  {
   "cell_type": "markdown",
   "metadata": {},
   "source": [
    "# Python Requests"
   ]
  },
  {
   "cell_type": "markdown",
   "metadata": {},
   "source": [
    "## Tasks Today:\n",
    "\n",
    "   \n",
    "1) <b>Requests package</b> <br>\n",
    " &nbsp;&nbsp;&nbsp;&nbsp; a) pip install <br>\n",
    " &nbsp;&nbsp;&nbsp;&nbsp; b) requests.get <br>\n",
    " &nbsp;&nbsp;&nbsp;&nbsp; c) Response object <br>\n",
    " &nbsp;&nbsp;&nbsp;&nbsp; d) .content and .text <br>\n",
    " &nbsp;&nbsp;&nbsp;&nbsp; e) JSON <br>  \n",
    "2) <b>Python Wrapper</b> <br>\n",
    " &nbsp;&nbsp;&nbsp;&nbsp; a) API key and base url<br>\n",
    " &nbsp;&nbsp;&nbsp;&nbsp; b) Creating a class for our requests<br>\n",
    " &nbsp;&nbsp;&nbsp;&nbsp; c) Private method for getting the response data <br>\n",
    " &nbsp;&nbsp;&nbsp;&nbsp; d) Public method for displaying the data <br>\n",
    " &nbsp;&nbsp;&nbsp;&nbsp; e) In-Class Exercise #1 - Add a method for getting the high and lows for the next 3 days <br>\n",
    "3) <b>Exercises</b> <br>\n",
    " &nbsp;&nbsp;&nbsp;&nbsp; a) Exercise #1 - Pokemon Wrapper  <br>"
   ]
  },
  {
   "cell_type": "code",
   "execution_count": null,
   "metadata": {},
   "outputs": [],
   "source": [
    "!pip install faker"
   ]
  },
  {
   "cell_type": "code",
   "execution_count": null,
   "metadata": {},
   "outputs": [],
   "source": [
    "# from faker import Faker\n",
    "\n",
    "# fake = Faker()\n",
    "# print(fake)"
   ]
  },
  {
   "cell_type": "code",
   "execution_count": null,
   "metadata": {},
   "outputs": [],
   "source": [
    "# fake.name()"
   ]
  },
  {
   "cell_type": "code",
   "execution_count": null,
   "metadata": {},
   "outputs": [],
   "source": [
    "# fake.postcode()"
   ]
  },
  {
   "cell_type": "code",
   "execution_count": null,
   "metadata": {},
   "outputs": [],
   "source": [
    "# fake_data = []\n",
    "\n",
    "# for _ in range(10):\n",
    "#     first = fake.first_name()\n",
    "#     last = fake.last_name()\n",
    "#     person_info = {\n",
    "#         \"first_name\" : first,\n",
    "#         \"last_name\" :last,\n",
    "#         \"city\" : fake.city(),\n",
    "#         \"email\" : f\"{first.lower()}.{last.lower()}@{fake.free_email_domain()}\",\n",
    "#         \"occupation\" : {\n",
    "#             \"company\" : fake.company(),\n",
    "#             \"position\" : fake.job()\n",
    "#         }\n",
    "#     }\n",
    "# fake_data.append(person_info)\n",
    "# print(fake_data)\n"
   ]
  },
  {
   "cell_type": "markdown",
   "metadata": {},
   "source": [
    "#### Warm Up\n",
    "Write a function that takes in a name (first or last) and returns the position and company name of that person. If the user is not found, return -1"
   ]
  },
  {
   "cell_type": "code",
   "execution_count": null,
   "metadata": {},
   "outputs": [],
   "source": [
    "# Example 1\n",
    "# get_person_info('Adam')\n",
    "# Output: 'Records manager at Odom, Harper, and Allen'\n",
    "\n",
    "# Example 2\n",
    "# get_person_info('Burns')\n",
    "# Output: 'Applications developer at Sanders-Ryan'\n",
    "\n",
    "# Example 3\n",
    "# get_person_info('Alice')\n",
    "# Output: -1"
   ]
  },
  {
   "cell_type": "code",
   "execution_count": null,
   "metadata": {},
   "outputs": [],
   "source": [
    "# data = [\n",
    "#     {\n",
    "#         'first_name': 'Adam',\n",
    "#         'last_name': 'Simpson',\n",
    "#         'city': 'West Maureenland',\n",
    "#         'email': 'adam.simpson@paul-williams.com',\n",
    "#         'occupation': {\n",
    "#             'company': 'Odom, Harper and Allen',\n",
    "#             'position': 'Records manager'\n",
    "#         }\n",
    "#     },\n",
    "#     {\n",
    "#         'first_name': 'Robert',\n",
    "#         'last_name': 'Miller',\n",
    "#         'city': 'South Jaredburgh',\n",
    "#         'email': 'robert.miller@allen.org',\n",
    "#         'occupation': {\n",
    "#             'company': 'Roberts-Jackson',\n",
    "#             'position': 'Media planner'\n",
    "#         }\n",
    "#     },\n",
    "#     {\n",
    "#         'first_name': 'Edwin',\n",
    "#         'last_name': 'Johnson',\n",
    "#         'city': 'Lake Kimberly',\n",
    "#         'email': 'edwin.johnson@sanders.biz',\n",
    "#         'occupation': {\n",
    "#             'company': 'Hart, Jones and Malone',\n",
    "#             'position': 'Therapist, speech and language'\n",
    "#         }\n",
    "#     },\n",
    "#     {\n",
    "#         'first_name': 'Gail',\n",
    "#         'last_name': 'Castro',\n",
    "#         'city': 'Brianchester',\n",
    "#         'email': 'gail.castro@suarez-sullivan.org',\n",
    "#         'occupation': {\n",
    "#             'company': 'Duncan-Gallagher',\n",
    "#             'position': 'Designer, multimedia'\n",
    "#         }\n",
    "#     },\n",
    "#     {\n",
    "#         'first_name': 'Andre',\n",
    "#         'last_name': 'Burns',\n",
    "#         'city': 'New Samuelside',\n",
    "#         'email': 'andre.burns@love.com',\n",
    "#         'occupation': {\n",
    "#             'company': 'Sanders-Ryan',\n",
    "#             'position': 'Applications developer'\n",
    "#         }\n",
    "#     },\n",
    "#     {\n",
    "#         'first_name': 'Nicole',\n",
    "#         'last_name': 'Maynard',\n",
    "#         'city': 'Teresaville',\n",
    "#         'email': 'nicole.maynard@chavez.com',\n",
    "#         'occupation': {\n",
    "#             'company': 'Hoffman, Reynolds and Wilson',\n",
    "#             'position': 'Community education officer'\n",
    "#         }\n",
    "#     },\n",
    "#     {\n",
    "#         'first_name': 'Megan',\n",
    "#         'last_name': 'Mcdonald',\n",
    "#         'city': 'Walkerfurt',\n",
    "#         'email': 'megan.mcdonald@guzman.info',\n",
    "#         'occupation': {\n",
    "#             'company': 'King Ltd',\n",
    "#             'position': 'Doctor, general practice'\n",
    "#         }\n",
    "#     },\n",
    "#     {\n",
    "#         'first_name': 'Stephen',\n",
    "#         'last_name': 'Young',\n",
    "#         'city': 'South Jeffrey',\n",
    "#         'email': 'stephen.young@smith.biz',\n",
    "#         'occupation': {\n",
    "#             'company': 'Hernandez LLC',\n",
    "#             'position': 'Environmental manager'\n",
    "#         }\n",
    "#     },\n",
    "#     {\n",
    "#         'first_name': 'Daniel',\n",
    "#         'last_name': 'Deleon',\n",
    "#         'city': 'Yatesburgh',\n",
    "#         'email': 'daniel.deleon@mcmahon.org',\n",
    "#         'occupation': {\n",
    "#             'company': 'Nelson-Wilson',\n",
    "#             'position': 'Sports development officer'\n",
    "#         }\n",
    "#     },\n",
    "#     {\n",
    "#         'first_name': 'Patricia',\n",
    "#         'last_name': 'Pacheco',\n",
    "#         'city': 'South Donnamouth',\n",
    "#         'email': 'patricia.pacheco@lee-wilson.com',\n",
    "#         'occupation': {\n",
    "#             'company': 'Giles, Williams and Jones',\n",
    "#             'position': 'Theatre manager'\n",
    "#         }\n",
    "#     }\n",
    "# ]\n",
    "\n",
    "# def get_person_info(name):\n",
    "#     for person_dict in data:\n",
    "#         if person_dict[\"first_name\"] == name or person_dict[\"last_name\"] == name:\n",
    "#             return f' {person_dict[\"occupation\"][\"company\"]} at {person_dict[\"occupation\"][\"position\"]}'    \n",
    "#     else:\n",
    "#         return -1\n",
    "\n",
    "# print(get_person_info(\"Pacheco\"))\n"
   ]
  },
  {
   "cell_type": "code",
   "execution_count": null,
   "metadata": {},
   "outputs": [],
   "source": []
  },
  {
   "cell_type": "code",
   "execution_count": null,
   "metadata": {},
   "outputs": [],
   "source": []
  },
  {
   "cell_type": "code",
   "execution_count": null,
   "metadata": {},
   "outputs": [],
   "source": []
  },
  {
   "cell_type": "markdown",
   "metadata": {},
   "source": [
    "### Requests Package\n",
    "<a href='https://docs.python-requests.org/en/latest/'>Docs</a>"
   ]
  },
  {
   "cell_type": "markdown",
   "metadata": {},
   "source": [
    "#### Install and import package"
   ]
  },
  {
   "cell_type": "code",
   "execution_count": null,
   "metadata": {},
   "outputs": [],
   "source": [
    "import requests"
   ]
  },
  {
   "cell_type": "code",
   "execution_count": null,
   "metadata": {},
   "outputs": [],
   "source": [
    "print(requests)"
   ]
  },
  {
   "cell_type": "markdown",
   "metadata": {},
   "source": [
    "#### requests get method"
   ]
  },
  {
   "cell_type": "code",
   "execution_count": null,
   "metadata": {},
   "outputs": [],
   "source": [
    "# response = requests.get(\"https://codingtemple.com/\")\n",
    "\n",
    "# response"
   ]
  },
  {
   "cell_type": "markdown",
   "metadata": {},
   "source": [
    "#### Response object"
   ]
  },
  {
   "cell_type": "code",
   "execution_count": null,
   "metadata": {},
   "outputs": [],
   "source": []
  },
  {
   "cell_type": "code",
   "execution_count": null,
   "metadata": {},
   "outputs": [],
   "source": []
  },
  {
   "cell_type": "markdown",
   "metadata": {},
   "source": [
    "#### .content"
   ]
  },
  {
   "cell_type": "code",
   "execution_count": null,
   "metadata": {},
   "outputs": [],
   "source": []
  },
  {
   "cell_type": "markdown",
   "metadata": {},
   "source": [
    "#### .text"
   ]
  },
  {
   "cell_type": "code",
   "execution_count": null,
   "metadata": {
    "scrolled": true
   },
   "outputs": [],
   "source": []
  },
  {
   "cell_type": "code",
   "execution_count": null,
   "metadata": {},
   "outputs": [],
   "source": []
  },
  {
   "cell_type": "markdown",
   "metadata": {},
   "source": [
    "#### JSON Response"
   ]
  },
  {
   "cell_type": "code",
   "execution_count": null,
   "metadata": {},
   "outputs": [],
   "source": []
  },
  {
   "cell_type": "code",
   "execution_count": null,
   "metadata": {
    "scrolled": true
   },
   "outputs": [],
   "source": []
  },
  {
   "cell_type": "code",
   "execution_count": null,
   "metadata": {},
   "outputs": [],
   "source": []
  },
  {
   "cell_type": "code",
   "execution_count": null,
   "metadata": {},
   "outputs": [],
   "source": []
  },
  {
   "cell_type": "code",
   "execution_count": null,
   "metadata": {},
   "outputs": [],
   "source": []
  },
  {
   "cell_type": "code",
   "execution_count": null,
   "metadata": {
    "scrolled": true
   },
   "outputs": [],
   "source": []
  },
  {
   "cell_type": "code",
   "execution_count": null,
   "metadata": {},
   "outputs": [],
   "source": []
  },
  {
   "cell_type": "markdown",
   "metadata": {},
   "source": [
    "### Python Wrappers"
   ]
  },
  {
   "cell_type": "code",
   "execution_count": null,
   "metadata": {},
   "outputs": [],
   "source": [
    "# base_url = \"http://api.weatherapi.com/v1\"\n",
    "# api_method = \"/current.json\"\n",
    "# api_key = \"b9f7049cd4854c31b3e203159230103\"\n",
    "# city = \"08848\"\n",
    "\n",
    "# api_url = f\"{base_url}{api_method}?key={api_key}&q={city}\"\n",
    "# print(api_url)"
   ]
  },
  {
   "cell_type": "code",
   "execution_count": null,
   "metadata": {},
   "outputs": [],
   "source": [
    "# res = requests.get(api_url)\n",
    "# weather_data = res.json()\n",
    "# weather_data"
   ]
  },
  {
   "cell_type": "code",
   "execution_count": null,
   "metadata": {},
   "outputs": [],
   "source": [
    "# current_temp = weather_data[\"current\"][\"temp_f\"]\n",
    "# print(current_temp)\n",
    "\n",
    "# feels_like = weather_data['current']['feelslike_f']\n",
    "# print(feels_like)\n",
    "\n",
    "# current_conditions = weather_data['current']['condition'][\"text\"]\n",
    "# print(current_conditions)"
   ]
  },
  {
   "cell_type": "code",
   "execution_count": null,
   "metadata": {},
   "outputs": [],
   "source": [
    "# class CityWeather:\n",
    "#     def __init__(self, name, region, current, feels_like, condition):\n",
    "#         self.city = name\n",
    "#         self.region = region\n",
    "#         self.current_temp = current\n",
    "#         self.feels_like = feels_like\n",
    "#         self.condition = condition\n",
    "        \n",
    "#     def __repr__(self):\n",
    "#         return f\"<CityWeather|{self.city}>\"\n",
    "    \n",
    "#     def __str__(self):\n",
    "#         return f\"It is currently {self.condition} and {self.current_temp} in {self.city}, {self.region}. \\\n",
    "# It feels like {self.feels_like}\""
   ]
  },
  {
   "cell_type": "code",
   "execution_count": null,
   "metadata": {},
   "outputs": [],
   "source": [
    "# class WeatherAPI:\n",
    "#     base_url = \"http://api.weatherapi.com/v1\"\n",
    "    \n",
    "#     def __init__(self, api_key):\n",
    "#         self.api_key = api_key\n",
    "        \n",
    "#     def __get(self, city, api_method, **params): # Private method - can only be called from other methods within the class\n",
    "#         request_url = f\"{self.base_url}{api_method}?key={self.api_key}&q={city}\"\n",
    "#         if params:\n",
    "#             for key, value in params.items():\n",
    "#                 request_url += f\"&{key}={value}\"\n",
    "#         weather_response = requests.get(request_url)\n",
    "#         if weather_response.ok:\n",
    "#             return weather_response.json()\n",
    "#         else:\n",
    "#             print('There was an error!')\n",
    "    \n",
    "#     def get_current_weather(self, city):\n",
    "#         weather_data = self.__get(city, '/current.json')\n",
    "#         if weather_data:\n",
    "#             city_name = weather_data['location']['name']\n",
    "#             region = weather_data['location']['region']\n",
    "#             current_temp = weather_data['current']['temp_f']\n",
    "#             feels_like = weather_data['current']['feelslike_f']\n",
    "#             current_condition = weather_data['current']['condition']['text']\n",
    "#             city_weather = CityWeather(city_name, region, current_temp, feels_like, current_condition)\n",
    "#             return city_weather"
   ]
  },
  {
   "cell_type": "code",
   "execution_count": 38,
   "metadata": {},
   "outputs": [
    {
     "name": "stdout",
     "output_type": "stream",
     "text": [
      "<module 'requests' from 'C:\\\\Users\\\\livet\\\\anaconda3\\\\lib\\\\site-packages\\\\requests\\\\__init__.py'>\n"
     ]
    }
   ],
   "source": [
    "import requests\n",
    "print(requests)"
   ]
  },
  {
   "cell_type": "code",
   "execution_count": 40,
   "metadata": {},
   "outputs": [
    {
     "name": "stdout",
     "output_type": "stream",
     "text": [
      "Help on function get in module requests.api:\n",
      "\n",
      "get(url, params=None, **kwargs)\n",
      "    Sends a GET request.\n",
      "    \n",
      "    :param url: URL for the new :class:`Request` object.\n",
      "    :param params: (optional) Dictionary, list of tuples or bytes to send\n",
      "        in the query string for the :class:`Request`.\n",
      "    :param \\*\\*kwargs: Optional arguments that ``request`` takes.\n",
      "    :return: :class:`Response <Response>` object\n",
      "    :rtype: requests.Response\n",
      "\n"
     ]
    }
   ],
   "source": [
    "help(requests.get)"
   ]
  },
  {
   "cell_type": "code",
   "execution_count": null,
   "metadata": {},
   "outputs": [],
   "source": []
  },
  {
   "cell_type": "markdown",
   "metadata": {},
   "source": [
    "# Exercise"
   ]
  },
  {
   "cell_type": "markdown",
   "metadata": {},
   "source": [
    "#### Pokemon API Wrapper"
   ]
  },
  {
   "cell_type": "markdown",
   "metadata": {},
   "source": [
    "Create a python wrapper for the Pokemon API. It should take in a pokemon name and display the pokemon with its height and weight"
   ]
  },
  {
   "cell_type": "code",
   "execution_count": 69,
   "metadata": {},
   "outputs": [
    {
     "name": "stdout",
     "output_type": "stream",
     "text": [
      "4 is your pokemons height and 60 is how much your pokemon weighs\n"
     ]
    }
   ],
   "source": [
    "def pokemon(name):\n",
    "    poke_res = requests.get(f\"https://pokeapi.co/api/v2/pokemon/{name}\")\n",
    "    data = poke_res.json()\n",
    "    height = data[\"height\"]\n",
    "    weight = data[\"weight\"]\n",
    "    return f'{height} is your pokemons height and {weight} is how much your pokemon weighs'\n",
    "    \n",
    "print(pokemon(\"pikachu\"))"
   ]
  },
  {
   "cell_type": "code",
   "execution_count": null,
   "metadata": {},
   "outputs": [],
   "source": []
  },
  {
   "cell_type": "code",
   "execution_count": null,
   "metadata": {},
   "outputs": [],
   "source": []
  }
 ],
 "metadata": {
  "kernelspec": {
   "display_name": "Python 3 (ipykernel)",
   "language": "python",
   "name": "python3"
  },
  "language_info": {
   "codemirror_mode": {
    "name": "ipython",
    "version": 3
   },
   "file_extension": ".py",
   "mimetype": "text/x-python",
   "name": "python",
   "nbconvert_exporter": "python",
   "pygments_lexer": "ipython3",
   "version": "3.9.13"
  },
  "vscode": {
   "interpreter": {
    "hash": "4d070f3f957d6549a86454b41095bc777e1f2adee6bd16323b11d72e46ad5df6"
   }
  }
 },
 "nbformat": 4,
 "nbformat_minor": 4
}
